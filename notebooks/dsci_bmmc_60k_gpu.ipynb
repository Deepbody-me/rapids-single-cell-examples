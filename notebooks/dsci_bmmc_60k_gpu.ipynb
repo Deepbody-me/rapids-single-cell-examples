{
 "cells": [
  {
   "cell_type": "markdown",
   "metadata": {},
   "source": [
    "# RAPIDS analysis of single-cell ATAC-seq data from 60K cells\n",
    "\n",
    "Copyright (c) 2020, NVIDIA CORPORATION.\n",
    "Licensed under the Apache License, Version 2.0 (the \"License\") you may not use this file except in compliance with the License. You may obtain a copy of the License at\n",
    "\n",
    "http://www.apache.org/licenses/LICENSE-2.0 \n",
    "\n",
    "Unless required by applicable law or agreed to in writing, software distributed under the License is distributed on an \"AS IS\" BASIS, WITHOUT WARRANTIES OR CONDITIONS OF ANY KIND, either express or implied. See the License for the specific language governing permissions and limitations under the License."
   ]
  },
  {
   "cell_type": "markdown",
   "metadata": {},
   "source": [
    "The dataset we use here comes from [Lareau et al., Nat Biotech 2019](https://www.nature.com/articles/s41587-019-0147-6)), one of the highest throughput single-cell ATAC-seq experiments to date. They assay 136K resting and stimulated bone marrow-derived cells and study the different cell types and lineages that emerge. The paper analyzes resting & stimulated cells separately (and we also find that these two populations split into largely distinct clusters), so here we only focus on the 60K resting cells from this experiment.\n",
    "\n",
    "The cell metadata from this experiment includes annotated putative cell types based on chromVAR, Louvain clustering, and downstream cluster analysis. We compare our de novo identified clusters to these annotated clusters from the paper (and find good agreement).\n",
    "\n",
    "The peak-cell matrix along with peak and cell metadata files are publicly available on GEO, [GSE123580](https://www.ncbi.nlm.nih.gov/geo/query/acc.cgi?acc=GSE123580)."
   ]
  },
  {
   "cell_type": "markdown",
   "metadata": {},
   "source": [
    "### Import requirements"
   ]
  },
  {
   "cell_type": "code",
   "execution_count": 1,
   "metadata": {},
   "outputs": [
    {
     "name": "stdout",
     "output_type": "stream",
     "text": [
      "CPU times: user 2.56 s, sys: 2.06 s, total: 4.62 s\n",
      "Wall time: 14.8 s\n"
     ]
    }
   ],
   "source": [
    "%%time\n",
    "import numpy as np\n",
    "import scanpy as sc\n",
    "import anndata\n",
    "import matplotlib.pyplot as plt\n",
    "from collections import OrderedDict\n",
    "\n",
    "import time\n",
    "\n",
    "import cudf\n",
    "import cupy as cp\n",
    "\n",
    "from cuml.decomposition import PCA\n",
    "from cuml.manifold import TSNE\n",
    "\n",
    "import rapids_scanpy_funcs\n",
    "import utils\n",
    "\n",
    "import warnings\n",
    "warnings.filterwarnings('ignore', 'Expected ')\n",
    "warnings.simplefilter('ignore')"
   ]
  },
  {
   "cell_type": "code",
   "execution_count": 2,
   "metadata": {},
   "outputs": [],
   "source": [
    "import rmm\n",
    "\n",
    "rmm.reinitialize(\n",
    "    managed_memory=True, # Allows oversubscription\n",
    "    devices=0, # GPU device IDs to register. By default registers only GPU 0.\n",
    ")\n",
    "\n",
    "cp.cuda.set_allocator(rmm.rmm_cupy_allocator)"
   ]
  },
  {
   "cell_type": "markdown",
   "metadata": {},
   "source": [
    "## Set parameters"
   ]
  },
  {
   "cell_type": "code",
   "execution_count": 3,
   "metadata": {},
   "outputs": [],
   "source": [
    "# filtering peaks\n",
    "n_top_peaks = 25000 # Number of peaks to retain\n",
    "\n",
    "# PCA\n",
    "n_components = 50 # Number of principal components to compute\n",
    "\n",
    "# t-SNE\n",
    "tsne_n_pcs = 20 # Number of principal components to use for t-SNE\n",
    "\n",
    "# KNN\n",
    "n_neighbors = 10 # Number of nearest neighbors for KNN graph\n",
    "knn_n_pcs = 50 # Number of principal components to use for finding nearest neighbors\n",
    "\n",
    "# UMAP\n",
    "umap_min_dist = 0.4 \n",
    "umap_spread = 1.0\n",
    "\n",
    "# Differential peaks\n",
    "n_diff_peaks = 50 # Number of differential peaks to compute for each cluster\n",
    "\n",
    "# Marker genes\n",
    "# Gene coordinates are in GRCh37, from grch37.ensembl.org\n",
    "markers = ['MS4A1', 'LEF1', 'NKG7', 'TREM1', 'GATA1', 'PAX5']\n",
    "marker_coords = OrderedDict()\n",
    "marker_coords['MS4A1'] = ['chr11', 60223225, 60238233, 'fwd']\n",
    "marker_coords['LEF1'] = ['chr4', 108968701, 109090112, 'rev']\n",
    "marker_coords['NKG7'] = ['chr19', 51874860, 51875969, 'rev']\n",
    "marker_coords['TREM1'] = ['chr6', 41235664, 41254457, 'rev']\n",
    "marker_coords['GATA1'] = ['chrX', 48644962, 48652716, 'fwd']\n",
    "marker_coords['PAX5'] = ['chr9', 36833272, 37034103, 'rev']"
   ]
  },
  {
   "cell_type": "code",
   "execution_count": 4,
   "metadata": {},
   "outputs": [],
   "source": [
    "start_time = time.time()"
   ]
  },
  {
   "cell_type": "markdown",
   "metadata": {},
   "source": [
    "## Input data\n",
    "\n",
    "In the cell below, we provide the path to the sparse .h5ad file containing the peak x cell count matrix to analyze. Please see the README for instructions on how to download the dataset we use here."
   ]
  },
  {
   "cell_type": "code",
   "execution_count": 5,
   "metadata": {},
   "outputs": [
    {
     "name": "stdout",
     "output_type": "stream",
     "text": [
      "(60495, 143691)\n",
      "CPU times: user 255 ms, sys: 405 ms, total: 660 ms\n",
      "Wall time: 661 ms\n"
     ]
    }
   ],
   "source": [
    "%%time\n",
    "adata = anndata.read_h5ad('../data/dsci_resting_nonzeropeaks.h5ad')\n",
    "adata_raw = adata.copy()\n",
    "print(adata.X.shape)"
   ]
  },
  {
   "cell_type": "markdown",
   "metadata": {},
   "source": [
    "## Preprocessing"
   ]
  },
  {
   "cell_type": "code",
   "execution_count": 6,
   "metadata": {},
   "outputs": [],
   "source": [
    "preprocessing_start = time.time()"
   ]
  },
  {
   "cell_type": "markdown",
   "metadata": {},
   "source": [
    "### tf-idf normalization\n",
    "\n",
    "We use log1p(pseudocount / tf)\\*idf, motivated by discussion in [this blog post](http://andrewjohnhill.com/blog/2019/05/06/dimensionality-reduction-for-scatac-data/) as well as our results on various scATAC datasets."
   ]
  },
  {
   "cell_type": "code",
   "execution_count": 7,
   "metadata": {},
   "outputs": [
    {
     "name": "stdout",
     "output_type": "stream",
     "text": [
      "CPU times: user 2.33 s, sys: 1.12 s, total: 3.45 s\n",
      "Wall time: 3.45 s\n"
     ]
    }
   ],
   "source": [
    "%%time\n",
    "lognormalized = utils.logtf_idf(adata.X, pseudocount=10**3)\n",
    "adata.X = lognormalized"
   ]
  },
  {
   "cell_type": "markdown",
   "metadata": {},
   "source": [
    "### Frequency-based peak selection\n",
    "We want to choose peaks that have highest discriminative power between cells. A good proxy for discriminative power is variance; since peak data (especially on a sparse dataset like this) is essentially binary, the highest variance peaks are the ones with closest to 50\\% representation across cells (p=1/2 maximizes Bernoulli variance). The most frequent peak in this dataset only has 33\\% representation, so in practice we just end up taking the top N most frequent peaks, where N is a parameter we set above (default 25000)."
   ]
  },
  {
   "cell_type": "code",
   "execution_count": 8,
   "metadata": {},
   "outputs": [
    {
     "name": "stdout",
     "output_type": "stream",
     "text": [
      "CPU times: user 519 ms, sys: 163 ms, total: 682 ms\n",
      "Wall time: 680 ms\n"
     ]
    }
   ],
   "source": [
    "%%time\n",
    "peak_frequency = np.array(np.sum(adata.X > 0, axis=0) / adata.X.shape[0]).flatten()\n",
    "frequent_peak_idxs = np.argsort(peak_frequency)"
   ]
  },
  {
   "cell_type": "code",
   "execution_count": 9,
   "metadata": {},
   "outputs": [
    {
     "name": "stdout",
     "output_type": "stream",
     "text": [
      "(60495, 25000)\n",
      "CPU times: user 759 ms, sys: 73.8 ms, total: 832 ms\n",
      "Wall time: 831 ms\n"
     ]
    }
   ],
   "source": [
    "%%time\n",
    "use = frequent_peak_idxs[-n_top_peaks : ]\n",
    "adata = adata[:, use]\n",
    "print(adata.X.shape)"
   ]
  },
  {
   "cell_type": "code",
   "execution_count": 10,
   "metadata": {},
   "outputs": [
    {
     "name": "stdout",
     "output_type": "stream",
     "text": [
      "Preprocessing time: 4.99sec\n"
     ]
    }
   ],
   "source": [
    "print(\"Preprocessing time: %.2fsec\" % (time.time() - preprocessing_start))"
   ]
  },
  {
   "cell_type": "markdown",
   "metadata": {},
   "source": [
    "## Cluster & Visualize"
   ]
  },
  {
   "cell_type": "markdown",
   "metadata": {},
   "source": [
    "### PCA"
   ]
  },
  {
   "cell_type": "code",
   "execution_count": 11,
   "metadata": {},
   "outputs": [
    {
     "name": "stdout",
     "output_type": "stream",
     "text": [
      "CPU times: user 3.98 s, sys: 10.5 s, total: 14.4 s\n",
      "Wall time: 14.4 s\n"
     ]
    }
   ],
   "source": [
    "%%time\n",
    "adata = anndata.AnnData(X=adata.X.todense(),\n",
    "                        obs=adata.obs,\n",
    "                        var=adata.var) # For GPU PCA"
   ]
  },
  {
   "cell_type": "code",
   "execution_count": null,
   "metadata": {},
   "outputs": [],
   "source": [
    "%%time\n",
    "adata.obsm[\"X_pca\"] = PCA(n_components=n_components).fit_transform(adata.X)\n",
    "adata.obsm[\"X_pca\"].shape"
   ]
  },
  {
   "cell_type": "markdown",
   "metadata": {},
   "source": [
    "### kNN + Louvain clustering, UMAP visualization"
   ]
  },
  {
   "cell_type": "code",
   "execution_count": null,
   "metadata": {},
   "outputs": [],
   "source": [
    "%%time\n",
    "sc.pp.neighbors(adata, n_neighbors=n_neighbors, n_pcs=knn_n_pcs, method='rapids')"
   ]
  },
  {
   "cell_type": "code",
   "execution_count": null,
   "metadata": {},
   "outputs": [],
   "source": [
    "%%time\n",
    "sc.tl.umap(adata, min_dist=umap_min_dist, spread=umap_spread, method='rapids')"
   ]
  },
  {
   "cell_type": "code",
   "execution_count": null,
   "metadata": {},
   "outputs": [],
   "source": [
    "%%time\n",
    "sc.tl.louvain(adata, flavor='rapids')"
   ]
  },
  {
   "cell_type": "markdown",
   "metadata": {},
   "source": [
    "Below, we plot the UMAP visualization of the cells colored by the Louvain clusters. Next, we color the cells using the cell type annotations reported in the source paper. We see that the clusters we discovered match closely with the reported cell types."
   ]
  },
  {
   "cell_type": "code",
   "execution_count": null,
   "metadata": {},
   "outputs": [],
   "source": [
    "%%time\n",
    "\n",
    "fig, axs = plt.subplots(nrows = 2, ncols = 1, figsize = (6, 6), dpi=100)\n",
    "\n",
    "sc.pl.umap(adata, color=['louvain'], ax=axs[0], show=False)\n",
    "sc.pl.umap(adata, color=['cell_type'], ax=axs[1], show=False)\n",
    "\n",
    "plt.tight_layout()\n",
    "plt.show()"
   ]
  },
  {
   "cell_type": "markdown",
   "metadata": {},
   "source": [
    "### tSNE visualization"
   ]
  },
  {
   "cell_type": "code",
   "execution_count": null,
   "metadata": {},
   "outputs": [],
   "source": [
    "%%time\n",
    "adata.obsm['X_tsne'] = TSNE().fit_transform(adata.obsm[\"X_pca\"][:, :tsne_n_pcs])"
   ]
  },
  {
   "cell_type": "code",
   "execution_count": null,
   "metadata": {},
   "outputs": [],
   "source": [
    "%%time\n",
    "\n",
    "fig, axs = plt.subplots(nrows = 2, ncols = 1, figsize = (6, 6), dpi=100)\n",
    "\n",
    "sc.pl.tsne(adata, color=['louvain'], ax=axs[0], show=False)\n",
    "sc.pl.tsne(adata, color=['cell_type'], ax=axs[1], show=False)\n",
    "\n",
    "plt.tight_layout()\n",
    "plt.show()"
   ]
  },
  {
   "cell_type": "markdown",
   "metadata": {},
   "source": [
    "### Marker genes"
   ]
  },
  {
   "cell_type": "markdown",
   "metadata": {},
   "source": [
    "We now compute a gene activity score representing the activity of each marker gene in each cell. We use the `adata_raw` object to compute this score. This allows us to consider all peaks, not just the subset we used for clustering and UMAP."
   ]
  },
  {
   "cell_type": "code",
   "execution_count": null,
   "metadata": {},
   "outputs": [],
   "source": [
    "%%time\n",
    "# find which peaks overlap with each marker gene (+ 5kb upstream)\n",
    "peaks_per_gene = {gene : [] for gene in markers}\n",
    "\n",
    "for (i, peak) in enumerate(adata_raw.var_names):\n",
    "    chrom, coords = peak.strip().split(':')\n",
    "    start, end = [int(c) for c in coords.split('-')]\n",
    "    for gene in markers:\n",
    "        if utils.overlap(marker_coords[gene], [chrom, start, end], 5000, 0):\n",
    "            peaks_per_gene[gene].append((i, peak))\n",
    "\n",
    "for gene in peaks_per_gene:\n",
    "    print(f\"{gene} has {len(peaks_per_gene[gene])} nearby peaks\")"
   ]
  },
  {
   "cell_type": "code",
   "execution_count": null,
   "metadata": {},
   "outputs": [],
   "source": [
    "%%time\n",
    "# Calculate per-cell gene activity scores for each marker gene\n",
    "cell_gene_scores = np.zeros((adata.X.shape[0], len(marker_coords.keys())))\n",
    "for (i, gene) in enumerate(peaks_per_gene.keys()):\n",
    "    indices = [x[0] for x in peaks_per_gene[gene]]\n",
    "    peak_scores = adata_raw.X[:, indices].toarray()\n",
    "    cell_gene_scores[:, i] = np.sum(peak_scores, axis=1) + 1\n",
    "\n",
    "# Store per-cell gene activity scores with adata\n",
    "for (i, gene) in enumerate(markers):\n",
    "    adata.obs[gene] = np.log2(cell_gene_scores[:, i].tolist())\n",
    "    adata.obs.loc[np.isneginf(adata.obs[gene]), gene] = 0"
   ]
  },
  {
   "cell_type": "markdown",
   "metadata": {},
   "source": [
    "We now visualize the UMAP plot colored by activity of marker genes. We observe that the activation of cell-type specific marker genes correlates well with the cell types identified by Louvain clustering."
   ]
  },
  {
   "cell_type": "code",
   "execution_count": null,
   "metadata": {},
   "outputs": [],
   "source": [
    "%%time\n",
    "\n",
    "fig, axs = plt.subplots(nrows=2, ncols=3, figsize = (8, 4), dpi=100)\n",
    "axs = axs.flatten()\n",
    "for (i, gene) in enumerate(markers):\n",
    "    sc.pl.umap(adata, color_map=\"Blues\", color=gene, ax = axs[i], show=False)\n",
    "plt.tight_layout()\n",
    "plt.show()"
   ]
  },
  {
   "cell_type": "markdown",
   "metadata": {},
   "source": [
    "## Find Differential peaks\n",
    "\n",
    "We perform an accelerated logistic regression-based differential peak computation using RAPIDS. The current release of RAPIDS (as of 4 Aug 2020) has an issue causing the output to differ from that of scikit-learn logistic regression, so this function may not give the exact same results as the equivalent Scanpy CPU function."
   ]
  },
  {
   "cell_type": "code",
   "execution_count": null,
   "metadata": {},
   "outputs": [],
   "source": [
    "%%time\n",
    "cluster_labels = cudf.Series.from_categorical(adata.obs[\"louvain\"].cat)\n",
    "var_names = cudf.Series(adata.var_names)\n",
    "dense_gpu_array = cp.array(adata.X)\n",
    "\n",
    "scores, names, reference = rapids_scanpy_funcs.rank_genes_groups(\n",
    "    dense_gpu_array,\n",
    "    cluster_labels, \n",
    "    var_names, \n",
    "    penalty='none',\n",
    "    n_genes=n_diff_peaks, groups='all', reference='rest')"
   ]
  },
  {
   "cell_type": "code",
   "execution_count": null,
   "metadata": {},
   "outputs": [],
   "source": [
    "%%time\n",
    "fig, axs = plt.subplots(len(names[0])//3 + 1, 3, figsize=(9,9), dpi=100)\n",
    "axs = axs.flatten()\n",
    "\n",
    "for (i, peak) in enumerate(names[0]):\n",
    "    sc.pl.umap(adata, color=peak, \n",
    "           ax=axs[i], show=False,\n",
    "           vmax=min(25, np.max(adata[:,peak].X)),\n",
    "           cmap='viridis'\n",
    "          )\n",
    "plt.tight_layout()\n",
    "plt.show()"
   ]
  },
  {
   "cell_type": "code",
   "execution_count": null,
   "metadata": {},
   "outputs": [],
   "source": [
    "print(\"Full time: %.2fsec\" % (time.time() - start_time))"
   ]
  }
 ],
 "metadata": {
  "kernelspec": {
   "display_name": "Python 3",
   "language": "python",
   "name": "python3"
  },
  "language_info": {
   "codemirror_mode": {
    "name": "ipython",
    "version": 3
   },
   "file_extension": ".py",
   "mimetype": "text/x-python",
   "name": "python",
   "nbconvert_exporter": "python",
   "pygments_lexer": "ipython3",
   "version": "3.7.6"
  }
 },
 "nbformat": 4,
 "nbformat_minor": 4
}
